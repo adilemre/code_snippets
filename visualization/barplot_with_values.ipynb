splot = sns.barplot(x='feature_x',y='feature_y',data=input_data)
for p in splot.patches:
  splot.annotate(format(p.get_height(), ',.0f'),
                (p.get_x() + p.get_width() / 2., p.get_height()),
                ha = 'center',
                va = 'center', 
                xytext = (0, 10), 
                textcoords = 'offset points')
