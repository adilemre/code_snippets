#horizontal bar graph
splot = sns.barplot(x='feature_x',y='feature_y',data=input_data)
for p in splot.patches:
  splot.annotate(format(p.get_height(), ',.0f'),
                (p.get_x() + p.get_width() / 2., p.get_height()),
                ha = 'center',
                va = 'center', 
                xytext = (0, 10), 
                textcoords = 'offset points')



#vertical bar graph
plot=sns.barplot(x='Number_of_views',y='category_subcategory_summary_table_sorted',data=category_subcategory_summary_table_sorted)



for p in plot.patches:
  plot.annotate(format(p.get_width(), ',.0f'),
                (p.get_x()+p.get_width(), p.get_y() + p.get_height() ),
                ha = 'center',
                va = 'center', 
                xytext = (0, 10), 
                textcoords = 'offset points')
  
